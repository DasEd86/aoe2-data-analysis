{
 "cells": [
  {
   "cell_type": "markdown",
   "id": "43c700aa-c371-4dae-b180-837512d9bec8",
   "metadata": {},
   "source": [
    "## Import data"
   ]
  },
  {
   "cell_type": "code",
   "execution_count": 284,
   "id": "175eba24-3104-4875-af75-72a05194462e",
   "metadata": {},
   "outputs": [],
   "source": [
    "import numpy as np\n",
    "import matplotlib.pyplot as plt\n",
    "from numpy import genfromtxt\n",
    "from matplotlib.pyplot import figure\n",
    "import matplotlib\n",
    "\n",
    "file = 'match_model_dataset.csv'\n",
    "\n",
    "def read_uptime_data():\n",
    "    return genfromtxt(\n",
    "        file,\n",
    "        delimiter = ',',\n",
    "        skip_header = 1,\n",
    "        dtype = None,\n",
    "        encoding = None,\n",
    "        usecols = (21, 22, 37)\n",
    "    )\n",
    "\n",
    "def read_uptime_data_civ_player():\n",
    "    return genfromtxt(\n",
    "        file,\n",
    "        delimiter = ',',\n",
    "        skip_header = 1,\n",
    "        dtype = None,\n",
    "        encoding = None,\n",
    "        usecols = (1, 5, 21, 22, 37)\n",
    "    )\n",
    "\n",
    "def read_elo():\n",
    "    return genfromtxt(\n",
    "        file,\n",
    "        delimiter = ',',\n",
    "        skip_header = 1,\n",
    "        dtype = None,\n",
    "        usecols = (15, 19)\n",
    "    )"
   ]
  },
  {
   "cell_type": "markdown",
   "id": "8d28cc1f",
   "metadata": {},
   "source": [
    "## Prepare data"
   ]
  },
  {
   "cell_type": "code",
   "execution_count": 285,
   "id": "340d7be7",
   "metadata": {},
   "outputs": [],
   "source": [
    "def drop_zero(array1):\n",
    "    array1[array1 == 0] = 'nan' \n",
    "    nan_array = np.isnan(array1)\n",
    "    not_nan_array = ~ nan_array\n",
    "    array2 = array1[not_nan_array]  \n",
    "    return array2\n",
    "\n",
    "def get_mean_data():\n",
    "    uptimeData = read_uptime_data()\n",
    "    uptimeData[uptimeData == 0] = np.nan\n",
    "    return np.nanmean(uptimeData, axis=0)"
   ]
  },
  {
   "cell_type": "markdown",
   "id": "7bc0dce1-cd0f-4b97-8273-fc2a31e43c5b",
   "metadata": {},
   "source": [
    "## Cretae plots data"
   ]
  },
  {
   "cell_type": "code",
   "execution_count": 286,
   "id": "fd70beeb-b0d8-45e7-bc7f-a027ab8f01f4",
   "metadata": {},
   "outputs": [],
   "source": [
    "def draw_bar(ax, names, means, width):\n",
    "    ax.bar(names, means[2], width, align='edge', label='Imperial')\n",
    "    ax.bar(names, means[1], width, align='edge', label='Castle')\n",
    "    ax.bar(names, means[0], width, align='edge', label='Feudal')\n",
    "\n",
    "def uptime_barchart():\n",
    "    means = get_mean_data()\n",
    "    names = ['']\n",
    "\n",
    "    fig, ax = plt.subplots()\n",
    "    fig = matplotlib.pyplot.gcf()\n",
    "    fig.set_size_inches(2, 4)\n",
    "\n",
    "    width = 0.1\n",
    "    \n",
    "    draw_bar(ax, names, means, width)\n",
    "    ax.set_ylabel('Time')\n",
    "    ax.legend(loc='upper left')\n",
    "\n",
    "    fig.savefig('uptimes_global.png')\n",
    "\n",
    "def draw_boxplot(x, values, label, ax1):\n",
    "    if x == 0:\n",
    "        ax1[x][0].set_title('Feudal')\n",
    "        ax1[x][1].set_title('Castle')\n",
    "        ax1[x][2].set_title('Imperial')\n",
    "        \n",
    "    ax1[x][0].boxplot(drop_zero(values[:, 0]), showfliers=False, vert=False, widths=0.5)\n",
    "    ax1[x][0].get_yaxis().set_label_text(label)\n",
    "    ax1[x][0].get_yaxis().set_ticklabels([])\n",
    "    ax1[x][0].get_yaxis().set_tick_params(length=0)\n",
    "    \n",
    "    ax1[x][1].boxplot(drop_zero(values[:, 1]), showfliers=False, vert=False, widths=0.5)\n",
    "    ax1[x][1].get_yaxis().set_visible(False)\n",
    "    \n",
    "    ax1[x][2].boxplot(drop_zero(values[:, 2]), showfliers=False, vert=False, widths=0.5)\n",
    "    ax1[x][2].get_yaxis().set_visible(False)\n",
    "    \n",
    "def uptime_boxplot():\n",
    "    uptimeData = read_uptime_data()\n",
    "\n",
    "    uptimeData[uptimeData == 0] = np.nan\n",
    "    \n",
    "    mask = ~np.isnan(uptimeData)\n",
    "    filtered_data = [d[m] for d, m in zip(uptimeData.T, mask.T)]\n",
    "\n",
    "    names = ['Feudal', 'Castle', 'Imperial']\n",
    "    \n",
    "    fig1, ax1 = plt.subplots()\n",
    "    fig = matplotlib.pyplot.gcf()\n",
    "    fig.set_size_inches(3, 5)\n",
    "    ax1.boxplot(filtered_data, showfliers=False, labels=names)\n",
    "    fig.savefig('uptimes_box.png')\n",
    "\n",
    "def uptime_by_civ():    \n",
    "    data = read_uptime_data_civ_player()\n",
    "    data[data == 0] = np.nan\n",
    "\n",
    "    chinese = np.empty((0, 3), float)\n",
    "    franks = np.empty((0, 3), float)\n",
    "    khmer = np.empty((0, 3), float)\n",
    "    mayans = np.empty((0, 3), float)\n",
    "    vietnamese = np.empty((0, 3), float)\n",
    "\n",
    "    for x in data:\n",
    "        if x[1] == \"Khmer\":\n",
    "            khmer = np.vstack((khmer, [x[2], x[3], x[4]]))\n",
    "        if x[1] == \"Franks\":\n",
    "            franks = np.vstack((franks, [x[2], x[3], x[4]]))\n",
    "        if x[1] == \"Chinese\":\n",
    "            chinese = np.vstack((chinese, [x[2], x[3], x[4]]))\n",
    "        if x[1] == \"Mayans\":\n",
    "            mayans = np.vstack((mayans, [x[2], x[3], x[4]]))\n",
    "        if x[1] == \"Vietnamese\":\n",
    "            vietnamese = np.vstack((vietnamese, [x[2], x[3], x[4]]))\n",
    "\n",
    "    fig1, ax1 = plt.subplots(5, 3, sharex = 'col', gridspec_kw = {'wspace': 0.1, 'hspace': 0})\n",
    "    fig = matplotlib.pyplot.gcf()\n",
    "    fig.set_size_inches(13, 5)\n",
    "    frame1 = plt.gca()   \n",
    "\n",
    "    draw_boxplot(0, chinese, 'Chinese', ax1)\n",
    "    draw_boxplot(1, franks, 'Franks', ax1)\n",
    "    draw_boxplot(2, khmer, 'Khmer', ax1)\n",
    "    draw_boxplot(3, mayans, 'Mayans', ax1)\n",
    "    draw_boxplot(4, vietnamese, 'Viet', ax1)\n",
    "\n",
    "    fig.savefig('uptimes_box_civ.png')\n",
    "\n",
    "def elo_chart():\n",
    "    elo = read_elo()[::2]    \n",
    "    elo = elo.flatten()\n",
    "    fig, ax = plt.subplots()\n",
    "    counts, bins = np.histogram(elo[elo != 0], 25)\n",
    "\n",
    "    plt.hist(bins[:-1], bins, weights=counts)\n",
    "    ax.set(xlabel = 'Elo rating')\n",
    "    ax.set_yticklabels([])\n",
    "    ax.grid()\n",
    "\n",
    "    fig.savefig('elo.png')\n",
    "\n",
    "def get_mean_value(data):\n",
    "    data[data == 0] = np.nan\n",
    "    return np.nanmean(data, axis = 0)\n",
    "\n",
    "def uptime_per_player():\n",
    "    data = read_uptime_data_civ_player()\n",
    "    \n",
    "    TheViper = np.empty((0, 3), float)\n",
    "    Zuppi = np.empty((0, 3), float)\n",
    "    Hera = np.empty((0, 3), float)\n",
    "    Villese = np.empty((0, 3), float)\n",
    "    Slam = np.empty((0, 3), float)\n",
    "    Rubenstock = np.empty((0, 3), float)\n",
    "    Valas = np.empty((0, 3), float)\n",
    "\n",
    "    for x in data:\n",
    "        if x[0] == 'GL.TheViper':\n",
    "            TheViper = np.vstack((TheViper, [x[2], x[3], x[4]]))\n",
    "        if x[0] == 'Zuppi':\n",
    "            Zuppi = np.vstack((Zuppi, [x[2], x[3], x[4]]))\n",
    "        if x[0] == '[Tempo] Hera':\n",
    "            Hera = np.vstack((Hera, [x[2], x[3], x[4]]))\n",
    "        if x[0] == 'Villese':\n",
    "            Villese = np.vstack((Villese, [x[2], x[3], x[4]]))\n",
    "        if x[0] == 'GL.slam':\n",
    "            Slam = np.vstack((Slam, [x[2], x[3], x[4]]))\n",
    "        if x[0] == 'Rubenstock':\n",
    "            Rubenstock = np.vstack((Rubenstock, [x[2], x[3], x[4]]))\n",
    "        if x[0] == 'Valas':\n",
    "            Valas = np.vstack((Valas, [x[2], x[3], x[4]]))\n",
    "\n",
    "    fig, ax = plt.subplots(1, 7, sharey = 'row', gridspec_kw = {'wspace': 0.3, 'hspace': 0.3})\n",
    "    fig = matplotlib.pyplot.gcf()\n",
    "    fig.set_size_inches(2, 6)\n",
    "\n",
    "    width = 0.1\n",
    "    names = ['']\n",
    "\n",
    "    draw_bar(ax[0], names, get_mean_value(Hera), width)\n",
    "    ax[0].set_xlabel('Hera', rotation = 90)\n",
    "    ax[0].axhline(7.8, linewidth = 3, color = 'b')\n",
    "    ax[0].axhline(18.4, linewidth = 3, color = 'b')\n",
    "    ax[0].axhline(34.6, linewidth = 3, color = 'b')\n",
    "\n",
    "    draw_bar(ax[1], names, get_mean_value(Rubenstock), width)\n",
    "    ax[1].set_xlabel('Rubenstock', rotation = 90)\n",
    "    ax[1].axhline(7.8, linewidth = 3, color = 'b')\n",
    "    ax[1].axhline(18.4, linewidth = 3, color = 'b')\n",
    "    ax[1].axhline(34.6, linewidth = 3, color = 'b')\n",
    "\n",
    "    draw_bar(ax[2], names, get_mean_value(Slam), width)\n",
    "    ax[2].set_xlabel('Slam', rotation = 90)\n",
    "    ax[2].axhline(7.8, linewidth = 3, color = 'b')\n",
    "    ax[2].axhline(18.4, linewidth = 3, color = 'b')\n",
    "    ax[2].axhline(34.6, linewidth = 3, color = 'b')\n",
    "\n",
    "    draw_bar(ax[3], names, get_mean_value(Valas), width)\n",
    "    ax[3].set_xlabel('Valas', rotation = 90)\n",
    "    ax[3].axhline(7.8, linewidth = 3, color = 'b')\n",
    "    ax[3].axhline(18.4, linewidth = 3, color = 'b')\n",
    "    ax[3].axhline(34.6, linewidth = 3, color = 'b')\n",
    "\n",
    "    draw_bar(ax[4], names, get_mean_value(TheViper), width)\n",
    "    ax[4].set_xlabel('Viper', rotation = 90)\n",
    "    ax[4].axhline(7.8, linewidth = 3, color = 'b')\n",
    "    ax[4].axhline(18.4, linewidth = 3, color = 'b')\n",
    "    ax[4].axhline(34.6, linewidth = 3, color = 'b')\n",
    "\n",
    "    draw_bar(ax[5], names, get_mean_value(Villese), width)\n",
    "    ax[5].set_xlabel('Villese', rotation = 90)\n",
    "    ax[5].axhline(7.8, linewidth = 3, color = 'b')\n",
    "    ax[5].axhline(18.4, linewidth = 3, color = 'b')\n",
    "    ax[5].axhline(34.6, linewidth = 3, color = 'b')\n",
    "\n",
    "    draw_bar(ax[6], names, get_mean_value(Zuppi), width)\n",
    "    ax[6].set_xlabel('Zuppi', rotation = 90)\n",
    "    ax[6].axhline(7.8, linewidth = 3, color = 'b')\n",
    "    ax[6].axhline(18.4, linewidth = 3, color = 'b')\n",
    "    ax[6].axhline(34.6, linewidth = 3, color = 'b')\n",
    "\n",
    "    fig.autofmt_xdate()\n",
    "    fig.savefig('uptimes_by_player.png')"
   ]
  },
  {
   "cell_type": "markdown",
   "id": "86b3d709-28fc-4411-be84-17013033d261",
   "metadata": {},
   "source": [
    "## Draw plots"
   ]
  },
  {
   "cell_type": "code",
   "execution_count": 287,
   "id": "e6025c7f-84ab-499c-98b4-bce157a62cbd",
   "metadata": {},
   "outputs": [
    {
     "name": "stderr",
     "output_type": "stream",
     "text": [
      "<ipython-input-286-1dfe1b387dbf>:57: FutureWarning: elementwise == comparison failed and returning scalar instead; this will raise an error or perform elementwise comparison in the future.\n",
      "  data[data == 0] = np.nan\n"
     ]
    },
    {
     "data": {
      "image/png": "[encoded data removed]",
      "text/plain": [
       "<Figure size 432x288 with 1 Axes>"
      ]
     },
     "metadata": {
      "needs_background": "light"
     },
     "output_type": "display_data"
    },
    {
     "data": {
      "image/png": "[encoded data removed]",
      "text/plain": [
       "<Figure size 144x288 with 1 Axes>"
      ]
     },
     "metadata": {
      "needs_background": "light"
     },
     "output_type": "display_data"
    },
    {
     "data": {
      "image/png": "[encoded data removed]",
      "text/plain": [
       "<Figure size 216x360 with 1 Axes>"
      ]
     },
     "metadata": {
      "needs_background": "light"
     },
     "output_type": "display_data"
    },
    {
     "data": {
      "image/png": "[encoded data removed]",
      "text/plain": [
       "<Figure size 936x360 with 15 Axes>"
      ]
     },
     "metadata": {
      "needs_background": "light"
     },
     "output_type": "display_data"
    },
    {
     "data": {
      "image/png": "[encoded data removed]",
      "text/plain": [
       "<Figure size 144x432 with 7 Axes>"
      ]
     },
     "metadata": {
      "needs_background": "light"
     },
     "output_type": "display_data"
    }
   ],
   "source": [
    "elo_chart()\n",
    "uptime_barchart()\n",
    "uptime_boxplot()\n",
    "uptime_by_civ()\n",
    "uptime_per_player()"
   ]
  },
  {
   "cell_type": "code",
   "execution_count": null,
   "id": "7ae4293f-4530-4d64-ad6a-2e4ca94072a5",
   "metadata": {},
   "outputs": [],
   "source": []
  }
 ],
 "metadata": {
  "kernelspec": {
   "display_name": "Python 3",
   "language": "python",
   "name": "python3"
  },
  "language_info": {
   "codemirror_mode": {
    "name": "ipython",
    "version": 3
   },
   "file_extension": ".py",
   "mimetype": "text/x-python",
   "name": "python",
   "nbconvert_exporter": "python",
   "pygments_lexer": "ipython3",
   "version": "3.8.8"
  }
 },
 "nbformat": 4,
 "nbformat_minor": 5
}
